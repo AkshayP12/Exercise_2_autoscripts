{
 "cells": [
  {
   "cell_type": "code",
   "execution_count": 8,
   "metadata": {},
   "outputs": [],
   "source": [
    "import numpy as np\n",
    "import pandas as pd\n",
    "import os\n",
    "import git\n",
    "from git import RemoteProgress\n",
    "from git import Repo\n",
    "\n",
    "\n",
    "import matplotlib.pyplot as plt\n",
    "import seaborn as sns"
   ]
  },
  {
   "cell_type": "code",
   "execution_count": 9,
   "metadata": {},
   "outputs": [],
   "source": [
    "local_link = \"C:\\\\Users\\\\User\\\\repo\\\\camel\"\n",
    "\n",
    "repo = Repo(local_link)\n",
    "fixing_commit_1 = \"c93a87c36aa4d14ad6f7ee1df9507fa2ca1fd91\"\n",
    "affected_file_1 = \"camel-core/src/main/java/org/apache/camel/model/dataformat/JsonDataFormat.java\""
   ]
  },
  {
   "cell_type": "code",
   "execution_count": 10,
   "metadata": {},
   "outputs": [
    {
     "name": "stdout",
     "output_type": "stream",
     "text": [
      "Question 1: Message and Title of Fixing Commit\n",
      "commit c93a87c36aa4d14ad6f7ee1df9507fa2ca1fd91a\n",
      "Author: Andrea Cosentino <ancosen@gmail.com>\n",
      "Date:   Thu Dec 8 09:59:44 2016 +0100\n",
      "\n",
      "    CAMEL-10567: Camel-Jackson: Add an option to allow the UnmarshallType header use\n"
     ]
    }
   ],
   "source": [
    "print(\"Question 1: Message and Title of Fixing Commit\")\n",
    "show_data = repo.git.show(\"-s\", fixing_commit_1).splitlines()\n",
    "for line in show_data:\n",
    "    print(line)"
   ]
  },
  {
   "cell_type": "code",
   "execution_count": 21,
   "metadata": {},
   "outputs": [
    {
     "name": "stdout",
     "output_type": "stream",
     "text": [
      "Question 2: Total number of files affected\n",
      " 1 file changed, 18 insertions(+)\n"
     ]
    }
   ],
   "source": [
    "print(\"Question 2: Total number of files affected\")\n",
    "files_affected = repo.git.show(\"--stat\", fixing_commit_1).splitlines()\n",
    "files_affected = files_affected[7:]\n",
    "for line in files_affected:\n",
    "    print(line)"
   ]
  },
  {
   "cell_type": "code",
   "execution_count": 25,
   "metadata": {},
   "outputs": [
    {
     "name": "stdout",
     "output_type": "stream",
     "text": [
      "Question 3: Total number of directories affected\n",
      " 100.0% camel-core/src/main/java/org/apache/camel/model/dataformat/\n"
     ]
    }
   ],
   "source": [
    "print(\"Question 3: Total number of directories affected\")\n",
    "directory = repo.git.show(\"--dirstat\", fixing_commit_1).splitlines()\n",
    "files_affected = repo.git.show(\"--stat\", fixing_commit_1).splitlines()\n",
    "directory = directory[6:]\n",
    "for line in directory:\n",
    "    print(line)"
   ]
  },
  {
   "cell_type": "code",
   "execution_count": 32,
   "metadata": {},
   "outputs": [
    {
     "name": "stdout",
     "output_type": "stream",
     "text": [
      "Question 4: Total lines of code (including comments and blank lines) were deleted\n",
      "0\n"
     ]
    }
   ],
   "source": [
    "print(\"Question 4: Total lines of code (including comments and blank lines) were deleted\")\n",
    "print('0')"
   ]
  },
  {
   "cell_type": "code",
   "execution_count": 33,
   "metadata": {},
   "outputs": [
    {
     "name": "stdout",
     "output_type": "stream",
     "text": [
      "Question 5: Total lines of code (including comments and blank lines) were added\n",
      " 18 insertions(+)\n"
     ]
    }
   ],
   "source": [
    "print(\"Question 5: Total lines of code (including comments and blank lines) were added\")\n",
    "line_affected_include_comments = repo.git.show(\"--shortstat\",fixing_commit_1).splitlines()\n",
    "line_affected_include_comments.reverse()\n",
    "line_affected_include_comments = line_affected_include_comments[0].split(',')\n",
    "print(line_affected_include_comments[1])\n"
   ]
  },
  {
   "cell_type": "code",
   "execution_count": 34,
   "metadata": {},
   "outputs": [
    {
     "name": "stdout",
     "output_type": "stream",
     "text": [
      "Question 6: Total lines of code (excluding comments and blank lines) were deleted\n"
     ]
    }
   ],
   "source": [
    "print(\"Question 6: Total lines of code (excluding comments and blank lines) were deleted\")\n"
   ]
  },
  {
   "cell_type": "code",
   "execution_count": 35,
   "metadata": {},
   "outputs": [
    {
     "name": "stdout",
     "output_type": "stream",
     "text": [
      "Question 7: Total lines of code (excluding comments and blank lines) were added\n"
     ]
    }
   ],
   "source": [
    "print(\"Question 7: Total lines of code (excluding comments and blank lines) were added\")\n"
   ]
  },
  {
   "cell_type": "code",
   "execution_count": 36,
   "metadata": {},
   "outputs": [
    {
     "name": "stdout",
     "output_type": "stream",
     "text": [
      "Question 8: How many days between current fixing commit and previous commit of each affected file\n"
     ]
    }
   ],
   "source": [
    "print(\"Question 8: How many days between current fixing commit and previous commit of each affected file\")\n",
    "\n"
   ]
  },
  {
   "cell_type": "code",
   "execution_count": 37,
   "metadata": {},
   "outputs": [
    {
     "name": "stdout",
     "output_type": "stream",
     "text": [
      "Question 9: How many times has each affected file of the current fixing commit been modified in the past since their creation (including rename of the file)?\n",
      "For the file:\n",
      "64\n"
     ]
    }
   ],
   "source": [
    "print(\"Question 9: How many times has each affected file of the current fixing commit been modified in the past since their creation (including rename of the file)?\")\n",
    "show_number_of_times_1 = repo.git.log(\"--follow\",\"--format=%cd\",fixing_commit_1,\"--\",affected_file_1).splitlines()\n",
    "\n",
    "print(\"For the file:\")\n",
    "print(len(show_number_of_times_1))\n",
    "\n"
   ]
  },
  {
   "cell_type": "code",
   "execution_count": 38,
   "metadata": {},
   "outputs": [
    {
     "name": "stdout",
     "output_type": "stream",
     "text": [
      "Question 10: 10.\tWhich developers have modified each affected file since its creation? \n",
      "For file \n",
      "{'James Strachan', 'Babak Vahdat', 'Willem Ning Jiang', 'Willem Jiang', 'Andrea Cosentino', 'Hiram R. Chirino', 'Hadrian Zbarcea', 'Claus Ibsen', 'Thibaut Robert', 'Guillaume Nodet'}\n"
     ]
    }
   ],
   "source": [
    "print(\"Question 10: 10.\tWhich developers have modified each affected file since its creation? \")\n",
    "which_develop_1 = repo.git.log(\"--follow\",\"--format=%an\",fixing_commit_1,\"--\",affected_file_1).splitlines()\n",
    "ans_1 = set(which_develop_1)\n",
    "\n",
    "print(\"For file \")\n",
    "print(ans_1)\n",
    "\n"
   ]
  },
  {
   "cell_type": "code",
   "execution_count": 39,
   "metadata": {},
   "outputs": [
    {
     "name": "stdout",
     "output_type": "stream",
     "text": [
      "Question 11: how many commits have each of them submitted? \n",
      "For file\n",
      "    38\tClaus Ibsen\n",
      "     6\tAndrea Cosentino\n",
      "     4\tGuillaume Nodet\n",
      "     3\tBabak Vahdat\n",
      "     3\tWillem Ning Jiang\n",
      "     2\tThibaut Robert\n",
      "     2\tWillem Jiang\n",
      "     1\tArno Noordover\n",
      "     1\tHadrian Zbarcea\n",
      "     1\tkimmking\n"
     ]
    }
   ],
   "source": [
    "print(\"Question 11: how many commits have each of them submitted? \")\n",
    "how_many_1 = repo.git.shortlog(\"-ns\",\"--all\",\"--no-merges\",fixing_commit_1,\"--\",affected_file_1).splitlines()\n",
    "\n",
    "print(\"For file\")\n",
    "for line in how_many_1:\n",
    "    print(line)\n"
   ]
  },
  {
   "cell_type": "code",
   "execution_count": null,
   "metadata": {},
   "outputs": [],
   "source": []
  }
 ],
 "metadata": {
  "kernelspec": {
   "display_name": "Python 3",
   "language": "python",
   "name": "python3"
  },
  "language_info": {
   "codemirror_mode": {
    "name": "ipython",
    "version": 3
   },
   "file_extension": ".py",
   "mimetype": "text/x-python",
   "name": "python",
   "nbconvert_exporter": "python",
   "pygments_lexer": "ipython3",
   "version": "3.7.4"
  }
 },
 "nbformat": 4,
 "nbformat_minor": 2
}
