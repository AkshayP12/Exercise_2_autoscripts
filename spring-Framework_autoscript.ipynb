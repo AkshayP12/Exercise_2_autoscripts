{
 "cells": [
  {
   "cell_type": "code",
   "execution_count": 3,
   "metadata": {},
   "outputs": [],
   "source": [
    "import numpy as np\n",
    "import pandas as pd\n",
    "import os\n",
    "import git\n",
    "from git import RemoteProgress\n",
    "from git import Repo\n",
    "\n",
    "\n",
    "import matplotlib.pyplot as plt\n",
    "import seaborn as sns"
   ]
  },
  {
   "cell_type": "code",
   "execution_count": 4,
   "metadata": {},
   "outputs": [],
   "source": [
    "local_link = \"C:\\\\Users\\\\User\\\\repo\\\\spring-framework\"\n",
    "\n",
    "repo = Repo(local_link)\n",
    "fixing_commit_1 = \"e2d6e709c3c65a4951eb096843ee75d5200cfcad\"\n",
    "affected_file_1 = \"spring-webmvc/src/main/java/org/springframework/web/servlet/ResourceServlet.java\"\n",
    "affected_file_2 = \"spring-webmvc/src/test/java/org/springframework/web/servlet/ResourceServletTests.java\""
   ]
  },
  {
   "cell_type": "code",
   "execution_count": 5,
   "metadata": {},
   "outputs": [
    {
     "name": "stdout",
     "output_type": "stream",
     "text": [
      "Question 1: Message and Title of Fixing Commit\n",
      "commit e2d6e709c3c65a4951eb096843ee75d5200cfcad\n",
      "Author: Brian Clozel <bclozel@pivotal.io>\n",
      "Date:   Wed Dec 21 10:21:28 2016 +0100\n",
      "\n",
      "    Normalize resource URL in ResourceServlet\n",
      "    \n",
      "    Issue: SPR-14946\n"
     ]
    }
   ],
   "source": [
    "print(\"Question 1: Message and Title of Fixing Commit\")\n",
    "show_data = repo.git.show(\"-s\", fixing_commit_1).splitlines()\n",
    "for line in show_data:\n",
    "    print(line)"
   ]
  },
  {
   "cell_type": "code",
   "execution_count": 6,
   "metadata": {},
   "outputs": [
    {
     "name": "stdout",
     "output_type": "stream",
     "text": [
      "Question 2: Total number of files affected\n",
      " 2 files changed, 66 insertions(+), 5 deletions(-)\n"
     ]
    }
   ],
   "source": [
    "print(\"Question 2: Total number of files affected\")\n",
    "files_affected = repo.git.show(\"--stat\", fixing_commit_1).splitlines()\n",
    "files_affected = files_affected[10:]\n",
    "for line in files_affected:\n",
    "    print(line)"
   ]
  },
  {
   "cell_type": "code",
   "execution_count": 7,
   "metadata": {},
   "outputs": [
    {
     "name": "stdout",
     "output_type": "stream",
     "text": [
      "Question 3: Total number of directories affected\n",
      "  18.0% spring-webmvc/src/main/java/org/springframework/web/servlet/\n",
      "  81.9% spring-webmvc/src/test/java/org/springframework/web/servlet/\n"
     ]
    }
   ],
   "source": [
    "print(\"Question 3: Total number of directories affected\")\n",
    "directory = repo.git.show(\"--dirstat\", fixing_commit_1).splitlines()\n",
    "directory = directory[8:]\n",
    "for line in directory:\n",
    "    print(line)"
   ]
  },
  {
   "cell_type": "code",
   "execution_count": 32,
   "metadata": {},
   "outputs": [
    {
     "name": "stdout",
     "output_type": "stream",
     "text": [
      "Question 4: Total lines of code (including comments and blank lines) were deleted\n",
      " 5 deletions(-)\n"
     ]
    }
   ],
   "source": [
    "print(\"Question 4: Total lines of code (including comments and blank lines) were deleted\")\n",
    "line_affected_include_comments = repo.git.show(\"--shortstat\",fixing_commit_1).splitlines()\n",
    "line_affected_include_comments.reverse()\n",
    "line_affected_include_comments = line_affected_include_comments[0].split(',')\n",
    "print(line_affected_include_comments[2])\n"
   ]
  },
  {
   "cell_type": "code",
   "execution_count": 33,
   "metadata": {},
   "outputs": [
    {
     "name": "stdout",
     "output_type": "stream",
     "text": [
      "Question 5: Total lines of code (including comments and blank lines) were added\n",
      " 66 insertions(+)\n"
     ]
    }
   ],
   "source": [
    "print(\"Question 5: Total lines of code (including comments and blank lines) were added\")\n",
    "line_affected_include_comments = repo.git.show(\"--shortstat\",fixing_commit_1).splitlines()\n",
    "line_affected_include_comments.reverse()\n",
    "line_affected_include_comments = line_affected_include_comments[0].split(',')\n",
    "print(line_affected_include_comments[1])\n"
   ]
  },
  {
   "cell_type": "code",
   "execution_count": 49,
   "metadata": {},
   "outputs": [
    {
     "name": "stdout",
     "output_type": "stream",
     "text": [
      "Question 6: Total lines of code (excluding comments and blank lines) were deleted\n"
     ]
    }
   ],
   "source": [
    "print(\"Question 6: Total lines of code (excluding comments and blank lines) were deleted\")\n"
   ]
  },
  {
   "cell_type": "code",
   "execution_count": 50,
   "metadata": {},
   "outputs": [
    {
     "name": "stdout",
     "output_type": "stream",
     "text": [
      "Question 7: Total lines of code (excluding comments and blank lines) were added\n"
     ]
    }
   ],
   "source": [
    "print(\"Question 7: Total lines of code (excluding comments and blank lines) were added\")\n"
   ]
  },
  {
   "cell_type": "code",
   "execution_count": 51,
   "metadata": {},
   "outputs": [
    {
     "name": "stdout",
     "output_type": "stream",
     "text": [
      "Question 8: How many days between current fixing commit and previous commit of each affected file\n"
     ]
    }
   ],
   "source": [
    "print(\"Question 8: How many days between current fixing commit and previous commit of each affected file\")\n",
    "\n"
   ]
  },
  {
   "cell_type": "code",
   "execution_count": 52,
   "metadata": {},
   "outputs": [
    {
     "name": "stdout",
     "output_type": "stream",
     "text": [
      "Question 9: How many times has each affected file of the current fixing commit been modified in the past since their creation (including rename of the file)?\n",
      "For the file 1: \n",
      "13\n",
      "\n",
      "\n",
      "For the file 2: \n",
      "1\n"
     ]
    }
   ],
   "source": [
    "print(\"Question 9: How many times has each affected file of the current fixing commit been modified in the past since their creation (including rename of the file)?\")\n",
    "show_number_of_times_1 = repo.git.log(\"--follow\",\"--format=%cd\",fixing_commit_1,\"--\",affected_file_1).splitlines()\n",
    "show_number_of_times_2 = repo.git.log(\"--follow\",\"--format=%cd\",fixing_commit_1,\"--\",affected_file_2).splitlines()\n",
    "\n",
    "print(\"For the file 1: \")\n",
    "print(len(show_number_of_times_1))\n",
    "\n",
    "print('\\n')\n",
    "\n",
    "print(\"For the file 2: \")\n",
    "print(len(show_number_of_times_2))\n"
   ]
  },
  {
   "cell_type": "code",
   "execution_count": 53,
   "metadata": {},
   "outputs": [
    {
     "name": "stdout",
     "output_type": "stream",
     "text": [
      "Question 10: 10.\tWhich developers have modified each affected file since its creation? \n",
      "For file 1 \n",
      "{'Arjen Poutsma', 'Eric Dahl', 'Brian Clozel', 'Rossen Stoyanchev', 'Juergen Hoeller', 'Phillip Webb', 'Chris Beams'}\n",
      "\n",
      "\n",
      "For file 2 \n",
      "{'Brian Clozel'}\n"
     ]
    }
   ],
   "source": [
    "print(\"Question 10: 10.\tWhich developers have modified each affected file since its creation? \")\n",
    "which_develop_1 = repo.git.log(\"--follow\",\"--format=%an\",fixing_commit_1,\"--\",affected_file_1).splitlines()\n",
    "which_develop_2 = repo.git.log(\"--follow\",\"--format=%an\",fixing_commit_1,\"--\",affected_file_2).splitlines()\n",
    "ans_1 = set(which_develop_1)\n",
    "ans_2 = set(which_develop_2)\n",
    "\n",
    "print(\"For file 1 \")\n",
    "print(ans_1)\n",
    "\n",
    "print('\\n')\n",
    "\n",
    "print(\"For file 2 \")\n",
    "print(ans_2)\n"
   ]
  },
  {
   "cell_type": "code",
   "execution_count": 48,
   "metadata": {},
   "outputs": [
    {
     "name": "stdout",
     "output_type": "stream",
     "text": [
      "Question 11: how many commits have each of them submitted? \n",
      "For file 1 \n",
      "     6\tJuergen Hoeller\n",
      "     4\tBrian Clozel\n",
      "     3\tChris Beams\n",
      "     3\tPhillip Webb\n",
      "     3\tRossen Stoyanchev\n",
      "     3\tSpring Operator\n",
      "     1\tAndy Clement\n",
      "     1\tEric Dahl\n",
      "     1\tSebastien Deleuze\n",
      "\n",
      "\n",
      "For file 2 \n",
      "     6\tJuergen Hoeller\n",
      "     4\tBrian Clozel\n",
      "     3\tChris Beams\n",
      "     3\tPhillip Webb\n",
      "     3\tRossen Stoyanchev\n",
      "     3\tSpring Operator\n",
      "     1\tAndy Clement\n",
      "     1\tEric Dahl\n",
      "     1\tSebastien Deleuze\n"
     ]
    }
   ],
   "source": [
    "print(\"Question 11: how many commits have each of them submitted? \")\n",
    "how_many_1 = repo.git.shortlog(\"-ns\",\"--all\",\"--no-merges\",fixing_commit_1,\"--\",affected_file_1).splitlines()\n",
    "hom_many_2 = repo.git.shortlog(\"-ns\",\"--all\",\"--no-merges\",fixing_commit_1,\"--\",affected_file_2).splitlines()\n",
    "\n",
    "print(\"For file 1 \")\n",
    "for line in how_many_1:\n",
    "    print(line)\n",
    "print('\\n')\n",
    "print(\"For file 2 \")\n",
    "for line in how_many_1:\n",
    "    print(line)\n"
   ]
  }
 ],
 "metadata": {
  "kernelspec": {
   "display_name": "Python 3",
   "language": "python",
   "name": "python3"
  },
  "language_info": {
   "codemirror_mode": {
    "name": "ipython",
    "version": 3
   },
   "file_extension": ".py",
   "mimetype": "text/x-python",
   "name": "python",
   "nbconvert_exporter": "python",
   "pygments_lexer": "ipython3",
   "version": "3.7.4"
  }
 },
 "nbformat": 4,
 "nbformat_minor": 2
}
